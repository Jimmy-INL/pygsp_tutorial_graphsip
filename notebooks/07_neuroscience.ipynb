{
 "cells": [
  {
   "cell_type": "markdown",
   "metadata": {},
   "source": [
    "# 7 Applications to neuroscience"
   ]
  },
  {
   "cell_type": "markdown",
   "metadata": {},
   "source": [
    "## 7.1 Analysis of fMRI signals on the brain connectome\n",
    "\n",
    "**TODO**\n",
    "1. Spectral analysis of the structural connectome, Laplacian eigendecomposition\n",
    "1. Graph Fourier Transform & filtering of the graph signals into 2 bands of lower/higher spatial frequencies (based on the graph structure)\n",
    "1. The norms of these reconstructed portions of the signal are considered as measures of alignment/liberality of the functional signal to the structure"
   ]
  },
  {
   "cell_type": "markdown",
   "metadata": {},
   "source": [
    "## 7.2 Assessment of significant excursions in fMRI signals, wrt randomized timecourses\n",
    "\n",
    "**TODO**: The graph randomization reported in Pirondini 2016 + test of the absolute value of the empirical fMRI signals versus the generated surrogates."
   ]
  }
 ],
 "metadata": {
  "kernelspec": {
   "display_name": "Python 3",
   "language": "python",
   "name": "python3"
  },
  "language_info": {
   "codemirror_mode": {
    "name": "ipython",
    "version": 3
   },
   "file_extension": ".py",
   "mimetype": "text/x-python",
   "name": "python",
   "nbconvert_exporter": "python",
   "pygments_lexer": "ipython3",
   "version": "3.7.0"
  }
 },
 "nbformat": 4,
 "nbformat_minor": 2
}
