{
 "cells": [
  {
   "cell_type": "markdown",
   "metadata": {},
   "source": [
    "# 7 Applications to neuroscience"
   ]
  },
  {
   "cell_type": "code",
   "execution_count": null,
   "metadata": {},
   "outputs": [],
   "source": [
    "from pathlib import Path\n",
    "\n",
    "import numpy as np\n",
    "import matplotlib as mpl\n",
    "import matplotlib.animation\n",
    "import matplotlib.pyplot as plt\n",
    "from scipy import io as sio\n",
    "import pygsp as pg\n",
    "import IPython.display as ipd"
   ]
  },
  {
   "cell_type": "markdown",
   "metadata": {},
   "source": [
    "## 7.1 Brain data\n",
    "\n",
    "The data is one subject from the [human connectome project dataset](https://db.humanconnectome.org/).\n",
    "There are both a graph and graph signals:\n",
    "* `SC.mat`: brain structural connectivity matrix obtained from MRI diffusion imaging (our graph),\n",
    "* `RS_TCs.mat`: functional signals obtained from resting-state fMRI (our graph signals),\n",
    "* `Glasser360_2mm_codebook.mat`: 3D positions of the nodes in MNI coordinates (to layout the graph).\n",
    "\n",
    "For both modalities, the brain atlas from Glasser et al (Nature 2016) is used, parcellating the brain into 360 regions."
   ]
  },
  {
   "cell_type": "code",
   "execution_count": null,
   "metadata": {},
   "outputs": [],
   "source": [
    "datadir = Path('../data')"
   ]
  },
  {
   "cell_type": "markdown",
   "metadata": {},
   "source": [
    "### 7.1.1 Structural connectivity graph\n",
    "\n",
    "Load the connectivity matrix."
   ]
  },
  {
   "cell_type": "code",
   "execution_count": null,
   "metadata": {},
   "outputs": [],
   "source": [
    "connectivity = sio.loadmat(datadir / 'SC.mat')['SC']\n",
    "n_regions, n_regions = connectivity.shape\n",
    "print(f'{n_regions} brain regions')"
   ]
  },
  {
   "cell_type": "markdown",
   "metadata": {},
   "source": [
    "Look at the structure of the connectivity matrix. Can you identify regions / communities?"
   ]
  },
  {
   "cell_type": "code",
   "execution_count": null,
   "metadata": {},
   "outputs": [],
   "source": [
    "#plt.spy(connectivity);\n",
    "plt.imshow(np.log(connectivity, out=np.zeros_like(connectivity), where=(connectivity!=0)));\n",
    "plt.colorbar();"
   ]
  },
  {
   "cell_type": "markdown",
   "metadata": {},
   "source": [
    "Look at the distribution of connection weights."
   ]
  },
  {
   "cell_type": "code",
   "execution_count": null,
   "metadata": {},
   "outputs": [],
   "source": [
    "plt.hist(connectivity.flatten(), bins=100, log=True);"
   ]
  },
  {
   "cell_type": "markdown",
   "metadata": {},
   "source": [
    "Build a PyGSP graph from the connectivity matrix. Use the normalized Laplacian."
   ]
  },
  {
   "cell_type": "code",
   "execution_count": null,
   "metadata": {},
   "outputs": [],
   "source": [
    "graph = pg.graphs.Graph(connectivity, gtype='human connectome', lap_type='normalized')\n",
    "\n",
    "print(f'{graph.N:_} nodes')\n",
    "print(f'{graph.Ne:_} edges')\n",
    "print(f'connected: {graph.is_connected()}')\n",
    "print(f'directed: {graph.is_directed()}')"
   ]
  },
  {
   "cell_type": "markdown",
   "metadata": {},
   "source": [
    "Look at the degree distribution."
   ]
  },
  {
   "cell_type": "code",
   "execution_count": null,
   "metadata": {},
   "outputs": [],
   "source": [
    "plt.hist(graph.dw, bins=100);"
   ]
  },
  {
   "cell_type": "markdown",
   "metadata": {},
   "source": [
    "Look at the eigenvalues. If the graph is correct, you should find back the figure Giulia presented."
   ]
  },
  {
   "cell_type": "code",
   "execution_count": null,
   "metadata": {},
   "outputs": [],
   "source": [
    "graph.compute_fourier_basis()\n",
    "plt.plot(graph.e);"
   ]
  },
  {
   "cell_type": "markdown",
   "metadata": {},
   "source": [
    "Look at the graph, with a force-directed layout."
   ]
  },
  {
   "cell_type": "code",
   "execution_count": null,
   "metadata": {},
   "outputs": [],
   "source": [
    "graph.set_coordinates(kind='spring')\n",
    "graph.plot()"
   ]
  },
  {
   "cell_type": "markdown",
   "metadata": {},
   "source": [
    "Now embed the graph in 3D using the real positions of the regions. Look at it again."
   ]
  },
  {
   "cell_type": "code",
   "execution_count": null,
   "metadata": {},
   "outputs": [],
   "source": [
    "coordinates = sio.loadmat(datadir / 'Glasser360_2mm_codebook.mat')['codeBook']\n",
    "graph.coords = np.stack([coordinates[0, 0][-2][0][region][:, 0] for region in range(n_regions)])\n",
    "\n",
    "fig = plt.figure(figsize=(10, 10))\n",
    "ax = fig.add_subplot(1, 1, 1, projection='3d')\n",
    "graph.plot(ax=ax)\n",
    "ax.set_aspect('equal', adjustable='box')"
   ]
  },
  {
   "cell_type": "markdown",
   "metadata": {},
   "source": [
    "Plot some of the first eigenvectors of the normalized Laplacian, on the 3D embedded graph. Can you identify how the brain is splitted?"
   ]
  },
  {
   "cell_type": "code",
   "execution_count": null,
   "metadata": {},
   "outputs": [],
   "source": [
    "n_eigenvectors = 5\n",
    "\n",
    "fig = plt.figure(figsize=(20, 5))\n",
    "for i in range(n_eigenvectors):\n",
    "    ax = fig.add_subplot(1, n_eigenvectors, i+1, projection='3d')\n",
    "    ax.set_aspect('equal', adjustable='box')\n",
    "    graph.plot_signal(graph.U[:, i], ax=ax, colorbar=False)\n",
    "    ax.set_title(f'eigenvector {i}')\n",
    "    ax.axis('off')"
   ]
  },
  {
   "cell_type": "markdown",
   "metadata": {},
   "source": [
    "Project the graph in 2D, by ignoring the z coordinate. Plot again some eigenvectors."
   ]
  },
  {
   "cell_type": "code",
   "execution_count": null,
   "metadata": {},
   "outputs": [],
   "source": [
    "graph.coords = graph.coords[:, :2]\n",
    "\n",
    "fig, axes = plt.subplots(1, 5, figsize=(20, 4))\n",
    "for i, ax in enumerate(axes):\n",
    "    graph.plot_signal(graph.U[:, i], ax=ax, colorbar=True)\n",
    "    ax.set_aspect('equal', adjustable='box')\n",
    "    ax.set_title(f'eigenvector {i}')\n",
    "    ax.axis('off')"
   ]
  },
  {
   "cell_type": "markdown",
   "metadata": {},
   "source": [
    "### 7.1.2 Functional activity (fMRI)\n",
    "\n",
    "Load the fMRI signals."
   ]
  },
  {
   "cell_type": "code",
   "execution_count": null,
   "metadata": {},
   "outputs": [],
   "source": [
    "signals = sio.loadmat(datadir / 'RS_TCs.mat')['RS_TCs']\n",
    "assert signals.shape[0] == n_regions"
   ]
  },
  {
   "cell_type": "markdown",
   "metadata": {},
   "source": [
    "See how the signals are correlated across regions."
   ]
  },
  {
   "cell_type": "code",
   "execution_count": null,
   "metadata": {},
   "outputs": [],
   "source": [
    "plt.plot(signals.T);"
   ]
  },
  {
   "cell_type": "code",
   "execution_count": null,
   "metadata": {},
   "outputs": [],
   "source": [
    "plt.plot(signals.mean(axis=0));"
   ]
  },
  {
   "cell_type": "markdown",
   "metadata": {},
   "source": [
    "Look at some time slices of the fMRI signal on the functional connectivity graph."
   ]
  },
  {
   "cell_type": "code",
   "execution_count": null,
   "metadata": {},
   "outputs": [],
   "source": [
    "START = 200\n",
    "fig, axes = plt.subplots(1, 5, figsize=(20, 5))\n",
    "for i, ax in enumerate(axes):\n",
    "    graph.plot_signal(signals[:, START+i], ax=ax, colorbar=False)\n",
    "    ax.set_aspect('equal', adjustable='box')\n",
    "    ax.set_title(f'time {START+i}')\n",
    "    ax.axis('off')"
   ]
  },
  {
   "cell_type": "markdown",
   "metadata": {},
   "source": [
    "Let's animate the functional activity on the structural graph."
   ]
  },
  {
   "cell_type": "code",
   "execution_count": null,
   "metadata": {},
   "outputs": [],
   "source": [
    "plt.rc('animation', embed_limit=100)\n",
    "fig, ax = plt.subplots(figsize=(5, 5))\n",
    "ax.set_aspect('equal', adjustable='box')\n",
    "ax.axis('off')\n",
    "plt.close(fig)\n",
    "sc = ax.scatter(graph.coords[:, 0], graph.coords[:, 1])\n",
    "cmap = plt.cm.get_cmap()\n",
    "\n",
    "def animate(i):\n",
    "    sc.set_color(cmap(signals[:, i]))\n",
    "    ax.set_title(f'time {i}')\n",
    "    return (sc,)\n",
    "\n",
    "animation = mpl.animation.FuncAnimation(fig, animate, blit=True,\n",
    "                                        frames=signals.shape[1], interval=20)\n",
    "\n",
    "ipd.HTML(animation.to_jshtml())"
   ]
  },
  {
   "cell_type": "markdown",
   "metadata": {},
   "source": [
    "Is the functional signal smooth on the structural graph? Does the smoothness (measured with the Dirichlet form) vary across time?"
   ]
  },
  {
   "cell_type": "code",
   "execution_count": null,
   "metadata": {},
   "outputs": [],
   "source": [
    "smoothness = signals.T @ graph.L @ signals\n",
    "plt.plot(np.diag(smoothness));"
   ]
  },
  {
   "cell_type": "markdown",
   "metadata": {},
   "source": [
    "## 7.1 Analysis of fMRI signals on the brain connectome\n",
    "\n",
    "In this exercise, you will:\n",
    "1. look at the spectral content (w.r.t. the connectome) of functional signals,\n",
    "1. decompose that signal in an aligned (low frequencies) and liberal (high frequencies) component,\n",
    "1. identify which brain regions mostly support aligned and liberal activities. The norms of these reconstructed portions of the signal are considered as measures of alignment/liberality of the functional signal to the structure.\n",
    "\n",
    "All the details and justifications are in the paper [Functional Alignment with Anatomical Networks is Associated with Cognitive Flexibility](https://arxiv.org/abs/1611.08751)."
   ]
  },
  {
   "cell_type": "code",
   "execution_count": null,
   "metadata": {},
   "outputs": [],
   "source": [
    "# Number of eigenvalues to select for low frequencies (aligned functional activity).\n",
    "THRESHOLD = 30 \n",
    "\n",
    "graph.compute_fourier_basis()"
   ]
  },
  {
   "cell_type": "markdown",
   "metadata": {},
   "source": [
    "Look at the norm (across time) of the spectral content of the fMRI signal."
   ]
  },
  {
   "cell_type": "code",
   "execution_count": null,
   "metadata": {},
   "outputs": [],
   "source": [
    "signals_fourier = graph.gft(signals)\n",
    "\n",
    "#mean = np.mean(np.abs(signals_fourier), axis=1)\n",
    "norm = np.linalg.norm(signals_fourier, axis=1)\n",
    "var = np.var(signals_fourier, axis=1)\n",
    "\n",
    "# Remove DC value (constant signal).\n",
    "norm = norm[1:]\n",
    "var = var[1:]\n",
    "\n",
    "fig, axes = plt.subplots(1, 2, figsize=(15, 5))\n",
    "axes[0].plot(graph.e[1:], norm)\n",
    "axes[1].loglog(graph.e[1:], norm)\n",
    "\n",
    "for ax in axes:\n",
    "    ax.fill_between(graph.e[1:], norm-3*var, norm+3*var, alpha=0.5)\n",
    "#    ax.vlines(graph.e[THRESHOLD], norm.min(), norm.max())\n",
    "    ax.add_patch(mpl.patches.Rectangle((0, norm.min()), graph.e[THRESHOLD], norm.max(), color='b', alpha=0.1))\n",
    "    ax.add_patch(mpl.patches.Rectangle((graph.e[THRESHOLD], norm.min()), graph.e[-1]-graph.e[THRESHOLD], norm.max(), color='r', alpha=0.1))\n",
    "    ax.set_ylim(0.8*norm.min(), 1.2*norm.max());\n",
    "    ax.set_xlabel(r'eigenvalue $\\lambda$')"
   ]
  },
  {
   "cell_type": "markdown",
   "metadata": {},
   "source": [
    "Design a complementary pair of ideal low-pass and high-pass filters with a cutoff set at the eigenvalue `graph.e[THRESHOLD]`."
   ]
  },
  {
   "cell_type": "code",
   "execution_count": null,
   "metadata": {},
   "outputs": [],
   "source": [
    "U_low = np.zeros_like(graph.U)\n",
    "U_high = np.zeros_like(graph.U)\n",
    "\n",
    "U_low[:, :THRESHOLD] = graph.U[:, :THRESHOLD]\n",
    "U_high[:, THRESHOLD:] = graph.U[:, THRESHOLD:]\n",
    "\n",
    "fig, (ax1, ax2) = plt.subplots(1, 2, figsize=(12, 5))\n",
    "ax1.imshow(U_low)\n",
    "ax2.imshow(U_high);"
   ]
  },
  {
   "cell_type": "markdown",
   "metadata": {},
   "source": [
    "Decompose the fMRI signal in an aligned component (which corresponds to low frequencies) and a liberal component (which corresponds to high frequencies)."
   ]
  },
  {
   "cell_type": "code",
   "execution_count": null,
   "metadata": {},
   "outputs": [],
   "source": [
    "signals_aligned = U_low @ U_low.T @ signals\n",
    "signals_liberal = U_high @ U_high.T @ signals"
   ]
  },
  {
   "cell_type": "markdown",
   "metadata": {},
   "source": [
    "If the graph Fourier transform has already been computed, then below is a more efficient way to compute it."
   ]
  },
  {
   "cell_type": "code",
   "execution_count": null,
   "metadata": {},
   "outputs": [],
   "source": [
    "signals_aligned = graph.igft(signals_fourier[:, :THRESHOLD])\n",
    "signals_liberal = graph.igft(signals_fourier[:, THRESHOLD:])"
   ]
  },
  {
   "cell_type": "markdown",
   "metadata": {},
   "source": [
    "An even better way is to use graph filters. If you can tolerate approximations in filtering, you can even avoid to compute the eigendecomposition of the Laplacian by approximating the filters by Chebyshev polynomials."
   ]
  },
  {
   "cell_type": "code",
   "execution_count": null,
   "metadata": {},
   "outputs": [],
   "source": [
    "def g_low(eigenvalue):\n",
    "    return eigenvalue < graph.e[THRESHOLD]\n",
    "\n",
    "def g_high(eigenvalue):\n",
    "    return eigenvalue >= graph.e[THRESHOLD]\n",
    "\n",
    "g = pg.filters.Filter(graph, [g_low, g_high])\n",
    "g.plot(show_sum=False)\n",
    "\n",
    "signals_filtered = g.filter(signals, method='exact')\n",
    "signals_aligned = signals_filtered[..., 0]\n",
    "signals_liberal = signals_filtered[..., 1]"
   ]
  },
  {
   "cell_type": "markdown",
   "metadata": {},
   "source": [
    "Plot the original functional signal along with its aligned and liberal decomposition. Plot as an image whose rows correspond to brain regions and columns to time."
   ]
  },
  {
   "cell_type": "code",
   "execution_count": null,
   "metadata": {},
   "outputs": [],
   "source": [
    "fig, axes = plt.subplots(1, 3, figsize=(20, 4))\n",
    "axes[0].imshow(signals)\n",
    "axes[1].imshow(signals_aligned)\n",
    "axes[2].imshow(signals_liberal)\n",
    "axes[0].set_title('all')\n",
    "axes[1].set_title('aligned')\n",
    "axes[2].set_title('liberal')\n",
    "for ax in axes:\n",
    "    ax.set_xlabel('time')\n",
    "    ax.set_ylabel('region')"
   ]
  },
  {
   "cell_type": "markdown",
   "metadata": {},
   "source": [
    "Compute the norm (across time) of the aligned and liberal components. Plot those two norms as graph signals."
   ]
  },
  {
   "cell_type": "code",
   "execution_count": null,
   "metadata": {},
   "outputs": [],
   "source": [
    "norm_aligned = np.linalg.norm(signals_aligned, axis=1)\n",
    "norm_liberal = np.linalg.norm(signals_liberal, axis=1)\n",
    "var_aligned = np.var(signals_aligned, axis=1)\n",
    "var_liberal = np.var(signals_liberal, axis=1)\n",
    "\n",
    "fig, (ax1, ax2) = plt.subplots(1, 2, figsize=(12, 5))\n",
    "graph.plot_signal(norm_aligned, ax=ax1)\n",
    "graph.plot_signal(norm_liberal, ax=ax2)\n",
    "ax1.set_title('aligned')\n",
    "ax2.set_title('liberal')\n",
    "ax1.set_aspect('equal', adjustable='box')\n",
    "ax2.set_aspect('equal', adjustable='box')\n",
    "ax1.axis('off')\n",
    "ax2.axis('off');"
   ]
  },
  {
   "cell_type": "markdown",
   "metadata": {},
   "source": [
    "Can you identify the brain regions that correpond to activity aligned with the underlying structural graph from the regions that correspond to liberal activity? If you could reproduce the findings of the paper, sensory regions (visual, somatomotor, auditory) should correspond to aligned activity, and high-level cognition (multisensory integration, memory, decision making) should correpond to liberal activity."
   ]
  },
  {
   "cell_type": "markdown",
   "metadata": {},
   "source": [
    "## 7.2 Assessment of significant excursions in fMRI signals, wrt randomized timecourses\n",
    "\n",
    "You can find all the details in the paper [A Spectral Method for Generating Surrogate Graph Signals](http://miplab.epfl.ch/pub/pirondini1601.pdf).\n",
    "\n",
    "**TODO**: The graph randomization reported in Pirondini 2016 + test of the absolute value of the empirical fMRI signals versus the generated surrogates."
   ]
  }
 ],
 "metadata": {
  "kernelspec": {
   "display_name": "Python 3",
   "language": "python",
   "name": "python3"
  },
  "language_info": {
   "codemirror_mode": {
    "name": "ipython",
    "version": 3
   },
   "file_extension": ".py",
   "mimetype": "text/x-python",
   "name": "python",
   "nbconvert_exporter": "python",
   "pygments_lexer": "ipython3",
   "version": "3.7.0"
  }
 },
 "nbformat": 4,
 "nbformat_minor": 2
}
