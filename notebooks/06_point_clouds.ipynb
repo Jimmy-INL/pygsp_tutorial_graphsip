{
 "cells": [
  {
   "cell_type": "markdown",
   "metadata": {},
   "source": [
    "# 6 Applications to point clouds"
   ]
  },
  {
   "cell_type": "markdown",
   "metadata": {},
   "source": [
    "## 6.1 Denoising\n",
    "\n",
    "**TODO**\n",
    "1. take clean point cloud\n",
    "1. add ranom noise\n",
    "1. denoise with low-pass filtering"
   ]
  },
  {
   "cell_type": "markdown",
   "metadata": {},
   "source": [
    "## 6.2 Curvature estimation\n",
    "\n",
    "**TODO**: estimate curvature with wavelets, <https://pygsp.readthedocs.io/en/stable/tutorials/wavelet.html>"
   ]
  }
 ],
 "metadata": {
  "kernelspec": {
   "display_name": "Python 3",
   "language": "python",
   "name": "python3"
  },
  "language_info": {
   "codemirror_mode": {
    "name": "ipython",
    "version": 3
   },
   "file_extension": ".py",
   "mimetype": "text/x-python",
   "name": "python",
   "nbconvert_exporter": "python",
   "pygments_lexer": "ipython3",
   "version": "3.7.0"
  }
 },
 "nbformat": 4,
 "nbformat_minor": 2
}
