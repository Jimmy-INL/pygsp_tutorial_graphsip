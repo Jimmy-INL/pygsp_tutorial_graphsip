{
 "cells": [
  {
   "cell_type": "markdown",
   "metadata": {},
   "source": [
    "# 2 Spectral Graph Theory\n",
    "\n",
    "We'll see here two of the most celebrated algorithms stemming from Spectral Graph Theory:\n",
    "1. [Spectral clustering](https://en.wikipedia.org/wiki/Spectral_clustering): clustering data using a similarity graphs\n",
    "1. [Laplacian eigenmaps](https://en.wikipedia.org/wiki/Nonlinear_dimensionality_reduction#Laplacian_eigenmaps): dimensionality reduction which preserves geodesic distances\n",
    "\n",
    "**TODO**: look at <https://nbviewer.jupyter.org/github/mdeff/ntds_2017/blob/outputs/assignments/03_solution.ipynb>\n",
    "\n",
    "**TODO**: maybe look at spectrum and eigengap"
   ]
  },
  {
   "cell_type": "markdown",
   "metadata": {},
   "source": [
    "## 2.1 Spectral clustering\n",
    "\n",
    "**TODO**:\n",
    "* mathematical formulation of the problem\n",
    "* solution is the first eigenvectors of the Laplacian\n",
    "* implement with pygsp\n",
    "* need data with labels: FMA?"
   ]
  },
  {
   "cell_type": "markdown",
   "metadata": {},
   "source": [
    "## 2.2 Laplacian eigenmaps\n",
    "\n",
    "**TODO**:\n",
    "* mathematical formulation of the problem\n",
    "* solution is the first eigenvectors of the Laplacian\n",
    "* implement with pygsp\n",
    "* need data with labels: FMA?"
   ]
  }
 ],
 "metadata": {
  "kernelspec": {
   "display_name": "Python 3",
   "language": "python",
   "name": "python3"
  },
  "language_info": {
   "codemirror_mode": {
    "name": "ipython",
    "version": 3
   },
   "file_extension": ".py",
   "mimetype": "text/x-python",
   "name": "python",
   "nbconvert_exporter": "python",
   "pygments_lexer": "ipython3",
   "version": "3.7.0"
  }
 },
 "nbformat": 4,
 "nbformat_minor": 2
}
